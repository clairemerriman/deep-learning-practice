{
 "cells": [
  {
   "cell_type": "markdown",
   "metadata": {},
   "source": [
    "# Introduction\n",
    "\n",
    "Suggested readings are [Chapter 1: What is Deep Learning?](https://colab.research.google.com/github/fastai/fastbook/blob/master/01_intro.ipynb) and PyTorch Chapters 1-4.\n",
    "\n",
    "\n",
    "Important note: fast ai is running most things on the GPU, so needs to be run in Google Colab. Remember to switch the runtime type at the start of each session!"
   ]
  },
  {
   "cell_type": "markdown",
   "metadata": {},
   "source": [
    "## Fast.ai Chapter 1\n",
    "\n",
    "This section is a basic introduction and background for neural networks and the types of problems that fast.ai (or PyTorch in general) can solve. The examples and syntax will be helpful to revist when working on problems."
   ]
  },
  {
   "cell_type": "markdown",
   "metadata": {},
   "source": [
    "## PyTorch Chapters 1 & 2\n",
    "\n",
    "The table of contents provides a decent overview of the Chapter 1\n",
    "\n",
    "1. Introducing deep learning and the PyTorch Library \n",
    "\n",
    "1.1.  The deep learning revolution 1.2  PyTorch for deep learning 1.3  Why PyTorch? The deep learning competitive landscape 1.4  An overview of how PyTorch supports deep learning projects\n",
    "\n",
    "Antiga, Luca Pietro Giovanni; Stevens, Eli; Viehmann, Thomas. Deep Learning with PyTorch: Build, train, and tune neural networks using Python tools . Manning. Kindle Edition. \n",
    "\n",
    "1.5  Hardware and software requirements Using Jupyter Notebooks\n",
    "\n",
    "Antiga, Luca Pietro Giovanni; Stevens, Eli; Viehmann, Thomas. Deep Learning with PyTorch: Build, train, and tune neural networks using Python tools . Manning. Kindle Edition. "
   ]
  },
  {
   "cell_type": "code",
   "execution_count": null,
   "metadata": {},
   "outputs": [],
   "source": []
  }
 ],
 "metadata": {
  "language_info": {
   "name": "python"
  }
 },
 "nbformat": 4,
 "nbformat_minor": 2
}

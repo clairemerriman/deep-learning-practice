{
 "cells": [
  {
   "cell_type": "markdown",
   "metadata": {},
   "source": [
    "# Introduction\n",
    "\n",
    "Suggested readings are [Chapter 1: What is Deep Learning?](https://colab.research.google.com/github/fastai/fastbook/blob/master/01_intro.ipynb) and PyTorch Chapters 1-4.\n",
    "\n",
    "\n",
    "Important note: fast ai is running most things on the GPU, so needs to be run in Google Colab. Remember to switch the runtime type at the start of each session!"
   ]
  },
  {
   "cell_type": "markdown",
   "metadata": {},
   "source": [
    "## Fast.ai Chapter 1\n",
    "\n",
    "This section is a basic introduction and background for neural networks and the types of problems that fast.ai (or PyTorch in general) can solve. The examples and syntax will be helpful to revist when working on problems."
   ]
  },
  {
   "cell_type": "markdown",
   "metadata": {},
   "source": [
    "## PyTorch Chapters 1 & 2\n",
    "\n",
    "The table of contents provides a decent overview of the Chapter 1\n",
    "\n",
    "1. Introducing deep learning and the PyTorch Library \n",
    "    1.  The deep learning revolution \n",
    "    2.  PyTorch for deep learning \n",
    "    3.  Why PyTorch? The deep learning competitive landscape \n",
    "    4.  An overview of how PyTorch supports deep learning projects\n",
    "    5.  Hardware and software requirements Using Jupyter Notebooks\n",
    "\n",
    "Chapter 2 introduces `torch.Tensor` and several pretrained models. These models can be downloaded an run without CUDA."
   ]
  },
  {
   "cell_type": "code",
   "execution_count": 47,
   "metadata": {},
   "outputs": [],
   "source": [
    "from torchvision import models\n",
    "\n",
    "dir(models)\n",
    "alexnet = models.AlexNet()\n",
    "resnet = models.resnet101(pretrained=True)"
   ]
  },
  {
   "cell_type": "code",
   "execution_count": 48,
   "metadata": {},
   "outputs": [],
   "source": [
    "from torchvision import transforms\n",
    "preprocess = transfor